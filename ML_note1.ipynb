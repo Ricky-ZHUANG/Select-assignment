{
 "cells": [
  {
   "cell_type": "markdown",
   "metadata": {},
   "source": [
    "Linear regression"
   ]
  },
  {
   "cell_type": "markdown",
   "metadata": {},
   "source": [
    "In this project, I implemented the cost function of linear regression, and gradient descent algorithm. "
   ]
  },
  {
   "cell_type": "code",
   "execution_count": 1,
   "metadata": {},
   "outputs": [],
   "source": [
    "import numpy as np\n",
    "import pandas as pd"
   ]
  },
  {
   "cell_type": "code",
   "execution_count": 2,
   "metadata": {},
   "outputs": [
    {
     "data": {
      "text/html": [
       "<div>\n",
       "<style scoped>\n",
       "    .dataframe tbody tr th:only-of-type {\n",
       "        vertical-align: middle;\n",
       "    }\n",
       "\n",
       "    .dataframe tbody tr th {\n",
       "        vertical-align: top;\n",
       "    }\n",
       "\n",
       "    .dataframe thead th {\n",
       "        text-align: right;\n",
       "    }\n",
       "</style>\n",
       "<table border=\"1\" class=\"dataframe\">\n",
       "  <thead>\n",
       "    <tr style=\"text-align: right;\">\n",
       "      <th></th>\n",
       "      <th>Population</th>\n",
       "      <th>Profit</th>\n",
       "    </tr>\n",
       "  </thead>\n",
       "  <tbody>\n",
       "    <tr>\n",
       "      <th>0</th>\n",
       "      <td>6.1101</td>\n",
       "      <td>17.5920</td>\n",
       "    </tr>\n",
       "    <tr>\n",
       "      <th>1</th>\n",
       "      <td>5.5277</td>\n",
       "      <td>9.1302</td>\n",
       "    </tr>\n",
       "    <tr>\n",
       "      <th>2</th>\n",
       "      <td>8.5186</td>\n",
       "      <td>13.6620</td>\n",
       "    </tr>\n",
       "    <tr>\n",
       "      <th>3</th>\n",
       "      <td>7.0032</td>\n",
       "      <td>11.8540</td>\n",
       "    </tr>\n",
       "    <tr>\n",
       "      <th>4</th>\n",
       "      <td>5.8598</td>\n",
       "      <td>6.8233</td>\n",
       "    </tr>\n",
       "  </tbody>\n",
       "</table>\n",
       "</div>"
      ],
      "text/plain": [
       "   Population   Profit\n",
       "0      6.1101  17.5920\n",
       "1      5.5277   9.1302\n",
       "2      8.5186  13.6620\n",
       "3      7.0032  11.8540\n",
       "4      5.8598   6.8233"
      ]
     },
     "execution_count": 2,
     "metadata": {},
     "output_type": "execute_result"
    }
   ],
   "source": [
    "#read the data from files\n",
    "path = 'ex1data1.txt'\n",
    "data = pd.read_csv(path, header = None, names = ['Population', 'Profit'])\n",
    "data.head()"
   ]
  },
  {
   "cell_type": "code",
   "execution_count": 3,
   "metadata": {},
   "outputs": [],
   "source": [
    "#Cost function\n",
    "def computeCost(X, y, theta):\n",
    "    inner = np.power((X*theta.T-y),2)\n",
    "    return np.sum(inner)/len(2*X)\n"
   ]
  },
  {
   "cell_type": "code",
   "execution_count": 4,
   "metadata": {},
   "outputs": [],
   "source": [
    "#add the initial conlum for data (theta 0 是橫截距，當他與x相乘的時候也會得到theta 0，所以initialize一個X0 = 1)\n",
    "data.insert(0, 'Ones',1)"
   ]
  },
  {
   "cell_type": "code",
   "execution_count": 5,
   "metadata": {},
   "outputs": [],
   "source": [
    "#convert data (which includes both X and y values) to X and y values separately\n",
    "cols = data.shape[1] #number of column\n",
    "X = data.iloc[:,0:cols-1] #all rows, except the last column (the last column is y value)\n",
    "y = data.iloc[:,cols-1:cols]\n",
    "\n",
    "#Question1: 爲什麽最後一column是cols，理論上從0開始算的話，最後一column應該是column-1，是不是shape返回值也是從零開始？\n",
    "#注意左閉右開！"
   ]
  },
  {
   "cell_type": "code",
   "execution_count": 6,
   "metadata": {},
   "outputs": [],
   "source": [
    "#convert X and y into numpy form and initialize theta\n",
    "X = np.matrix(X.values) #爲什麽要用values？不能强轉嗎？ Ans: values將他轉化為array,他之前不是array\n",
    "y = np.matrix(y.values)\n",
    "theta = np.matrix(np.array([0,0]))   #1*2 matrix\n"
   ]
  },
  {
   "cell_type": "markdown",
   "metadata": {},
   "source": [
    "batch gradient decent 批量梯度下降"
   ]
  },
  {
   "cell_type": "code",
   "execution_count": 7,
   "metadata": {},
   "outputs": [],
   "source": [
    "#gradient algorithm, wherr alpha is the learning rate and iter is number of iterations\n",
    "def gradientDescent(X, y, theta, alpha, iter):\n",
    "    #create a matrix variable to store the updated value of theta\n",
    "    temp = np.matrix(np.zeros(theta.shape))\n",
    "    #the number of iteration to loop through theta\n",
    "    paramaters = int(theta.ravel().shape[1])\n",
    "    #value of cost function\n",
    "    cost = np.zeros(iter)\n",
    "\n",
    "    #partial derivatives of J(theta)\n",
    "    for i in range(iter):\n",
    "        error = (X*theta.T) - y\n",
    "        #(X*theta.T) 長什麽樣？理論上X應該是竪著的，然後theta.T是橫著的，然後row*column得到X0*theta 0, X1*theta1,最後得到一個橫著的\n",
    "\n",
    "        #loop through error vector\n",
    "        for j in range(paramaters):\n",
    "            term = np.multiply(error, X[:,j])   #第j column 因爲偏導公式裏是error*Xj\n",
    "            temp[0,j] = temp[0,j] - (alpha/len(X))*np.sum(term)\n",
    "\n",
    "        theta = temp\n",
    "        cost[i] = computeCost(X, y, theta)\n",
    "\n",
    "    return theta, cost\n"
   ]
  },
  {
   "cell_type": "code",
   "execution_count": 8,
   "metadata": {},
   "outputs": [],
   "source": [
    "#alpha: the learning rate; iter: number of ineration\n",
    "# they are hyperparameter\n",
    "alpha = 0.01\n",
    "iters = 1000"
   ]
  },
  {
   "cell_type": "code",
   "execution_count": 9,
   "metadata": {},
   "outputs": [
    {
     "data": {
      "text/plain": [
       "matrix([[-3.24140214,  1.1272942 ]])"
      ]
     },
     "execution_count": 9,
     "metadata": {},
     "output_type": "execute_result"
    }
   ],
   "source": [
    "g, cost = gradientDescent(X, y, theta, alpha, iters)\n",
    "g"
   ]
  },
  {
   "cell_type": "code",
   "execution_count": 10,
   "metadata": {},
   "outputs": [
    {
     "data": {
      "text/plain": [
       "9.031911006157824"
      ]
     },
     "execution_count": 10,
     "metadata": {},
     "output_type": "execute_result"
    }
   ],
   "source": [
    "computeCost(X,y,g)"
   ]
  },
  {
   "cell_type": "code",
   "execution_count": null,
   "metadata": {},
   "outputs": [],
   "source": []
  }
 ],
 "metadata": {
  "kernelspec": {
   "display_name": "Python 3",
   "language": "python",
   "name": "python3"
  },
  "language_info": {
   "codemirror_mode": {
    "name": "ipython",
    "version": 3
   },
   "file_extension": ".py",
   "mimetype": "text/x-python",
   "name": "python",
   "nbconvert_exporter": "python",
   "pygments_lexer": "ipython3",
   "version": "3.8.5"
  },
  "vscode": {
   "interpreter": {
    "hash": "531284de7078a6630ca1c34ba4f5e48e57e92559169164765f69b2f0e5eebf8c"
   }
  }
 },
 "nbformat": 4,
 "nbformat_minor": 2
}
